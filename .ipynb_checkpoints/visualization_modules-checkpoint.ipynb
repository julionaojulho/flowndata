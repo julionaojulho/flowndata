{
 "cells": [
  {
   "cell_type": "markdown",
   "metadata": {},
   "source": [
    "# Visualizing data in python\n",
    "\n",
    "Currently, there are several modules to choose when talking about graphic representation of data, each with its own applications and userbase.\n",
    "\n",
    "This post is a rather ambitious attempt at identifying the strengths, weaknesses and overall most indicated application of the following modules:\n",
    "- matplotlib\n",
    "- seaborn\n",
    "- pandas\n",
    "- altair\n",
    "- bokeh\n",
    "- toyplot\n",
    "- ggplot\n",
    "\n",
    "The author's background must be taken into account: a scientific researcher with a soft spot for data visualization (and data science as a whole).\n",
    "\n",
    "These two activities have a lot in common, but differ fundamentally in their final product. For that reason, each module will be utilized in both contexts:\n",
    "1. the creation of \"publication ready\", mostly static, charts, including heavy labels and axes customization\n",
    "2. the typical data analysis workflow, prioritizing ease of use and the \"grammar of graphics\" concept"
   ]
  },
  {
   "cell_type": "markdown",
   "metadata": {},
   "source": [
    "**As of now, it remains as a one-part, ginormous post. Maybe, if some sense is ever knocked into me, it can become a multipart post.**"
   ]
  },
  {
   "cell_type": "code",
   "execution_count": 1,
   "metadata": {},
   "outputs": [],
   "source": [
    "import matplotlib.pyplot as plt\n",
    "%matplotlib inline\n",
    "plt.rcParams['figure.figsize'] = (12,6)"
   ]
  },
  {
   "cell_type": "code",
   "execution_count": null,
   "metadata": {
    "collapsed": true
   },
   "outputs": [],
   "source": []
  }
 ],
 "metadata": {
  "kernelspec": {
   "display_name": "Python [conda env:blog_env]",
   "language": "python",
   "name": "conda-env-blog_env-py"
  },
  "language_info": {
   "codemirror_mode": {
    "name": "ipython",
    "version": 3
   },
   "file_extension": ".py",
   "mimetype": "text/x-python",
   "name": "python",
   "nbconvert_exporter": "python",
   "pygments_lexer": "ipython3",
   "version": "3.6.1"
  }
 },
 "nbformat": 4,
 "nbformat_minor": 2
}
